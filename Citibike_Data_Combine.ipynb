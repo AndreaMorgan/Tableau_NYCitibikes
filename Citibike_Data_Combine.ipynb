{
 "cells": [
  {
   "cell_type": "code",
   "execution_count": 1,
   "metadata": {},
   "outputs": [],
   "source": [
    "import pandas as pd\n",
    "import numpy as np\n",
    "import os"
   ]
  },
  {
   "cell_type": "code",
   "execution_count": 2,
   "metadata": {},
   "outputs": [],
   "source": [
    "Jul18 = pd.read_csv(\"../Resources/July18CB.csv\")\n",
    "Aug18 = pd.read_csv(\"../Resources/Aug18CB.csv\")\n",
    "Sep18 = pd.read_csv(\"../Resources/Sep18CB.csv\")\n",
    "Jul19 = pd.read_csv(\"../Resources/July19CB.csv\")\n",
    "Aug19 = pd.read_csv(\"../Resources/Aug19CB.csv\")\n",
    "Sep19 = pd.read_csv(\"../Resources/Sep19CB.csv\")"
   ]
  },
  {
   "cell_type": "code",
   "execution_count": 3,
   "metadata": {},
   "outputs": [],
   "source": [
    "for i in Jul18:\n",
    "    Jul18[\"Month\"] = \"July\"\n",
    "    \n",
    "for i in Jul18:\n",
    "    Jul18[\"Year\"] = \"2018\"\n",
    "\n",
    "for i in Aug18:\n",
    "    Aug18[\"Month\"] = \"August\"\n",
    "    \n",
    "for i in Aug18:\n",
    "    Aug18[\"Year\"] = \"2018\"\n",
    "    \n",
    "for i in Sep18:\n",
    "    Sep18[\"Month\"] = \"September\"\n",
    "    \n",
    "for i in Sep18:\n",
    "    Sep18[\"Year\"] = \"2018\"\n",
    "\n",
    "for i in Jul19:\n",
    "    Jul19[\"Month\"] = \"July\"\n",
    "    \n",
    "for i in Jul19:\n",
    "    Jul19[\"Year\"] = \"2019\"\n",
    "\n",
    "for i in Aug19:\n",
    "    Aug19[\"Month\"] = \"August\"\n",
    "    \n",
    "for i in Aug19:\n",
    "    Aug19[\"Year\"] = \"2019\"\n",
    "    \n",
    "for i in Sep19:\n",
    "    Sep19[\"Month\"] = \"September\"\n",
    "    \n",
    "for i in Sep19:\n",
    "    Sep19[\"Year\"] = \"2019\""
   ]
  },
  {
   "cell_type": "code",
   "execution_count": 4,
   "metadata": {},
   "outputs": [],
   "source": [
    "all_data = Jul18.append([Aug18, Sep18, Jul19, Aug19, Sep19])"
   ]
  },
  {
   "cell_type": "code",
   "execution_count": 5,
   "metadata": {},
   "outputs": [
    {
     "data": {
      "text/plain": [
       "267423"
      ]
     },
     "execution_count": 5,
     "metadata": {},
     "output_type": "execute_result"
    }
   ],
   "source": [
    "len(all_data[\"tripduration\"])\n",
    "              \n",
    "              "
   ]
  },
  {
   "cell_type": "code",
   "execution_count": 8,
   "metadata": {},
   "outputs": [],
   "source": [
    "all_data.to_csv(\"../Tableau/All_CB_Data.csv\")"
   ]
  },
  {
   "cell_type": "code",
   "execution_count": 7,
   "metadata": {},
   "outputs": [],
   "source": [
    "NY2019 = pd.read_csv(\"../Resources/201909CB.csv\")\n",
    "NY2018 = pd.read_csv(\"../Resources/201809CB.csv\")\n",
    "NY2017 = pd.read_csv(\"../Resources/201709CB.csv\")"
   ]
  },
  {
   "cell_type": "code",
   "execution_count": 8,
   "metadata": {},
   "outputs": [],
   "source": [
    "for i in NY2019:\n",
    "    NY2019[\"Year\"] = \"2019\"\n",
    "    \n",
    "for i in NY2018:\n",
    "    NY2018[\"Year\"] = \"2018\"\n",
    "    \n",
    "for i in NY2017:\n",
    "    NY2017[\"Year\"] = \"2017\""
   ]
  },
  {
   "cell_type": "code",
   "execution_count": 10,
   "metadata": {},
   "outputs": [],
   "source": [
    "all_NY_data = NY2017.append([NY2018, NY2019])"
   ]
  },
  {
   "cell_type": "code",
   "execution_count": 11,
   "metadata": {},
   "outputs": [
    {
     "data": {
      "text/plain": [
       "6200882"
      ]
     },
     "execution_count": 11,
     "metadata": {},
     "output_type": "execute_result"
    }
   ],
   "source": [
    "len(all_NY_data)"
   ]
  },
  {
   "cell_type": "code",
   "execution_count": 12,
   "metadata": {},
   "outputs": [],
   "source": [
    "all_NY_data.to_csv(\"../Tableau/All_NYCB_Data.csv\")"
   ]
  },
  {
   "cell_type": "code",
   "execution_count": 13,
   "metadata": {},
   "outputs": [
    {
     "data": {
      "text/html": [
       "<div>\n",
       "<style scoped>\n",
       "    .dataframe tbody tr th:only-of-type {\n",
       "        vertical-align: middle;\n",
       "    }\n",
       "\n",
       "    .dataframe tbody tr th {\n",
       "        vertical-align: top;\n",
       "    }\n",
       "\n",
       "    .dataframe thead th {\n",
       "        text-align: right;\n",
       "    }\n",
       "</style>\n",
       "<table border=\"1\" class=\"dataframe\">\n",
       "  <thead>\n",
       "    <tr style=\"text-align: right;\">\n",
       "      <th></th>\n",
       "      <th>tripduration</th>\n",
       "      <th>starttime</th>\n",
       "      <th>stoptime</th>\n",
       "      <th>start station id</th>\n",
       "      <th>start station name</th>\n",
       "      <th>start station latitude</th>\n",
       "      <th>start station longitude</th>\n",
       "      <th>end station id</th>\n",
       "      <th>end station name</th>\n",
       "      <th>end station latitude</th>\n",
       "      <th>end station longitude</th>\n",
       "      <th>bikeid</th>\n",
       "      <th>usertype</th>\n",
       "      <th>birth year</th>\n",
       "      <th>gender</th>\n",
       "      <th>Year</th>\n",
       "    </tr>\n",
       "  </thead>\n",
       "  <tbody>\n",
       "    <tr>\n",
       "      <th>0</th>\n",
       "      <td>362</td>\n",
       "      <td>2017-09-01 00:00:17</td>\n",
       "      <td>2017-09-01 00:06:19</td>\n",
       "      <td>3331.0</td>\n",
       "      <td>Riverside Dr &amp; W 104 St</td>\n",
       "      <td>40.801343</td>\n",
       "      <td>-73.971146</td>\n",
       "      <td>3328.0</td>\n",
       "      <td>W 100 St &amp; Manhattan Ave</td>\n",
       "      <td>40.795000</td>\n",
       "      <td>-73.964500</td>\n",
       "      <td>14530</td>\n",
       "      <td>Subscriber</td>\n",
       "      <td>1993.0</td>\n",
       "      <td>1</td>\n",
       "      <td>2017</td>\n",
       "    </tr>\n",
       "    <tr>\n",
       "      <th>1</th>\n",
       "      <td>188</td>\n",
       "      <td>2017-09-01 00:00:21</td>\n",
       "      <td>2017-09-01 00:03:30</td>\n",
       "      <td>3101.0</td>\n",
       "      <td>N 12 St &amp; Bedford Ave</td>\n",
       "      <td>40.720798</td>\n",
       "      <td>-73.954847</td>\n",
       "      <td>3100.0</td>\n",
       "      <td>Nassau Ave &amp; Newell St</td>\n",
       "      <td>40.724813</td>\n",
       "      <td>-73.947526</td>\n",
       "      <td>15475</td>\n",
       "      <td>Subscriber</td>\n",
       "      <td>1988.0</td>\n",
       "      <td>1</td>\n",
       "      <td>2017</td>\n",
       "    </tr>\n",
       "    <tr>\n",
       "      <th>2</th>\n",
       "      <td>305</td>\n",
       "      <td>2017-09-01 00:00:25</td>\n",
       "      <td>2017-09-01 00:05:30</td>\n",
       "      <td>3140.0</td>\n",
       "      <td>1 Ave &amp; E 78 St</td>\n",
       "      <td>40.771404</td>\n",
       "      <td>-73.953517</td>\n",
       "      <td>3141.0</td>\n",
       "      <td>1 Ave &amp; E 68 St</td>\n",
       "      <td>40.765005</td>\n",
       "      <td>-73.958185</td>\n",
       "      <td>30346</td>\n",
       "      <td>Subscriber</td>\n",
       "      <td>1969.0</td>\n",
       "      <td>1</td>\n",
       "      <td>2017</td>\n",
       "    </tr>\n",
       "    <tr>\n",
       "      <th>3</th>\n",
       "      <td>223</td>\n",
       "      <td>2017-09-01 00:00:52</td>\n",
       "      <td>2017-09-01 00:04:36</td>\n",
       "      <td>236.0</td>\n",
       "      <td>St Marks Pl &amp; 2 Ave</td>\n",
       "      <td>40.728419</td>\n",
       "      <td>-73.987140</td>\n",
       "      <td>473.0</td>\n",
       "      <td>Rivington St &amp; Chrystie St</td>\n",
       "      <td>40.721101</td>\n",
       "      <td>-73.991925</td>\n",
       "      <td>28056</td>\n",
       "      <td>Subscriber</td>\n",
       "      <td>1993.0</td>\n",
       "      <td>1</td>\n",
       "      <td>2017</td>\n",
       "    </tr>\n",
       "    <tr>\n",
       "      <th>4</th>\n",
       "      <td>758</td>\n",
       "      <td>2017-09-01 00:01:01</td>\n",
       "      <td>2017-09-01 00:13:40</td>\n",
       "      <td>3427.0</td>\n",
       "      <td>Lafayette St &amp; Jersey St</td>\n",
       "      <td>40.724305</td>\n",
       "      <td>-73.996010</td>\n",
       "      <td>3431.0</td>\n",
       "      <td>E 35 St &amp; 3 Ave</td>\n",
       "      <td>40.746524</td>\n",
       "      <td>-73.977885</td>\n",
       "      <td>25413</td>\n",
       "      <td>Subscriber</td>\n",
       "      <td>1987.0</td>\n",
       "      <td>1</td>\n",
       "      <td>2017</td>\n",
       "    </tr>\n",
       "  </tbody>\n",
       "</table>\n",
       "</div>"
      ],
      "text/plain": [
       "   tripduration            starttime             stoptime  start station id  \\\n",
       "0           362  2017-09-01 00:00:17  2017-09-01 00:06:19            3331.0   \n",
       "1           188  2017-09-01 00:00:21  2017-09-01 00:03:30            3101.0   \n",
       "2           305  2017-09-01 00:00:25  2017-09-01 00:05:30            3140.0   \n",
       "3           223  2017-09-01 00:00:52  2017-09-01 00:04:36             236.0   \n",
       "4           758  2017-09-01 00:01:01  2017-09-01 00:13:40            3427.0   \n",
       "\n",
       "         start station name  start station latitude  start station longitude  \\\n",
       "0   Riverside Dr & W 104 St               40.801343               -73.971146   \n",
       "1     N 12 St & Bedford Ave               40.720798               -73.954847   \n",
       "2           1 Ave & E 78 St               40.771404               -73.953517   \n",
       "3       St Marks Pl & 2 Ave               40.728419               -73.987140   \n",
       "4  Lafayette St & Jersey St               40.724305               -73.996010   \n",
       "\n",
       "   end station id            end station name  end station latitude  \\\n",
       "0          3328.0    W 100 St & Manhattan Ave             40.795000   \n",
       "1          3100.0      Nassau Ave & Newell St             40.724813   \n",
       "2          3141.0             1 Ave & E 68 St             40.765005   \n",
       "3           473.0  Rivington St & Chrystie St             40.721101   \n",
       "4          3431.0             E 35 St & 3 Ave             40.746524   \n",
       "\n",
       "   end station longitude  bikeid    usertype  birth year  gender  Year  \n",
       "0             -73.964500   14530  Subscriber      1993.0       1  2017  \n",
       "1             -73.947526   15475  Subscriber      1988.0       1  2017  \n",
       "2             -73.958185   30346  Subscriber      1969.0       1  2017  \n",
       "3             -73.991925   28056  Subscriber      1993.0       1  2017  \n",
       "4             -73.977885   25413  Subscriber      1987.0       1  2017  "
      ]
     },
     "execution_count": 13,
     "metadata": {},
     "output_type": "execute_result"
    }
   ],
   "source": [
    "all_NY_data.head()"
   ]
  },
  {
   "cell_type": "code",
   "execution_count": null,
   "metadata": {},
   "outputs": [],
   "source": []
  }
 ],
 "metadata": {
  "kernelspec": {
   "display_name": "Python 3",
   "language": "python",
   "name": "python3"
  },
  "language_info": {
   "codemirror_mode": {
    "name": "ipython",
    "version": 3
   },
   "file_extension": ".py",
   "mimetype": "text/x-python",
   "name": "python",
   "nbconvert_exporter": "python",
   "pygments_lexer": "ipython3",
   "version": "3.7.3"
  }
 },
 "nbformat": 4,
 "nbformat_minor": 2
}
